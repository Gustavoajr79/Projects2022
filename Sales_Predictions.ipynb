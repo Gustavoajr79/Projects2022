{
  "nbformat": 4,
  "nbformat_minor": 0,
  "metadata": {
    "colab": {
      "name": "Sales Predictions",
      "provenance": [],
      "authorship_tag": "ABX9TyPVc46pMbgSyFY1y3Qpwuk5",
      "include_colab_link": true
    },
    "kernelspec": {
      "name": "python3",
      "display_name": "Python 3"
    },
    "language_info": {
      "name": "python"
    }
  },
  "cells": [
    {
      "cell_type": "markdown",
      "metadata": {
        "id": "view-in-github",
        "colab_type": "text"
      },
      "source": [
        "<a href=\"https://colab.research.google.com/github/Gustavoajr79/Projects2022/blob/main/Sales_Predictions.ipynb\" target=\"_parent\"><img src=\"https://colab.research.google.com/assets/colab-badge.svg\" alt=\"Open In Colab\"/></a>"
      ]
    },
    {
      "cell_type": "code",
      "execution_count": 1,
      "metadata": {
        "id": "GTk0r9HgTyQ8"
      },
      "outputs": [],
      "source": [
        "import pandas as pd"
      ]
    },
    {
      "cell_type": "code",
      "source": [
        "import numpy as np"
      ],
      "metadata": {
        "id": "SHx6DRBZT47h"
      },
      "execution_count": 10,
      "outputs": []
    },
    {
      "cell_type": "code",
      "source": [
        "data = {\n",
        "\"sales\" :[3735.138, 443.4228, 2097.27, 732.38, 994.7052, 556.6088, 343.5528, 4022.7636, 1076.5986, 4710.535],\n",
        "\"food\" :[249.8092, 48.2692, 141.618, 182.095, 53.8614, 51.4008, 57.6588, 107.7622, 96.9726, 187.8214]\n",
        "}\n",
        "#load data into a DataFrame object:\n",
        "df = pd.DataFrame(data)\n",
        "\n",
        "print(df) "
      ],
      "metadata": {
        "colab": {
          "base_uri": "https://localhost:8080/"
        },
        "id": "EI9sa-wZXK2t",
        "outputId": "4574e6a4-8844-492a-cf11-f6e3ef237421"
      },
      "execution_count": 16,
      "outputs": [
        {
          "output_type": "stream",
          "name": "stdout",
          "text": [
            "       sales      food\n",
            "0  3735.1380  249.8092\n",
            "1   443.4228   48.2692\n",
            "2  2097.2700  141.6180\n",
            "3   732.3800  182.0950\n",
            "4   994.7052   53.8614\n",
            "5   556.6088   51.4008\n",
            "6   343.5528   57.6588\n",
            "7  4022.7636  107.7622\n",
            "8  1076.5986   96.9726\n",
            "9  4710.5350  187.8214\n"
          ]
        }
      ]
    },
    {
      "cell_type": "code",
      "source": [
        "data = {\n",
        "\"food\" :[249.8092],\n",
        "\"calories\" :[420],\n",
        "\"visibility\" :[0.016047301],\t\n",
        "\"sales\" :[3735.138]\n",
        "}\n",
        "#load data into a DataFrame object:\n",
        "df = pd.DataFrame(data)\n",
        "\n",
        "print(df) \n"
      ],
      "metadata": {
        "colab": {
          "base_uri": "https://localhost:8080/"
        },
        "id": "11ZN-6-reBFv",
        "outputId": "fea64e80-e6f3-49e9-f669-b1e26e20149d"
      },
      "execution_count": 25,
      "outputs": [
        {
          "output_type": "stream",
          "name": "stdout",
          "text": [
            "       food  calories  visibility     sales\n",
            "0  249.8092       420    0.016047  3735.138\n"
          ]
        }
      ]
    },
    {
      "cell_type": "code",
      "source": [
        "data = {\n",
        "    \"Sales\" :[3735.138, 443.4228, 2097.27, 732.38, 994.7052, 556.6088, 343.5528, 4022.7636, 1076.5986, 4710.535]\n",
        "}\n",
        "#load data into a DataFrame object:\n",
        "df = pd.DataFrame(data)\n",
        "\n",
        "print(df) "
      ],
      "metadata": {
        "colab": {
          "base_uri": "https://localhost:8080/"
        },
        "id": "4GgDSGAOgkx9",
        "outputId": "91651b80-0225-459d-8c75-e044888fbaad"
      },
      "execution_count": 26,
      "outputs": [
        {
          "output_type": "stream",
          "name": "stdout",
          "text": [
            "       Sales\n",
            "0  3735.1380\n",
            "1   443.4228\n",
            "2  2097.2700\n",
            "3   732.3800\n",
            "4   994.7052\n",
            "5   556.6088\n",
            "6   343.5528\n",
            "7  4022.7636\n",
            "8  1076.5986\n",
            "9  4710.5350\n"
          ]
        }
      ]
    },
    {
      "cell_type": "code",
      "source": [
        "sales = (3735.138, 443.4228, 2097.27, 732.38, 994.7052, 556.6088, 343.5528, 4022.7636, 1076.5986, 4710.535)\n",
        "x = sum(sales)"
      ],
      "metadata": {
        "id": "-yJ0mHcSg9Yc"
      },
      "execution_count": 34,
      "outputs": []
    },
    {
      "cell_type": "code",
      "source": [
        "sales = (3735.138, 443.4228, 2097.27, 732.38, 994.7052, 556.6088, 343.5528, 4022.7636, 1076.5986, 4710.535)\n",
        "x = sum(sales)\n",
        "print(x)"
      ],
      "metadata": {
        "colab": {
          "base_uri": "https://localhost:8080/"
        },
        "id": "1RbxdGS1kV2R",
        "outputId": "6efd705f-ebf1-49d8-842f-f2ecba29fa7a"
      },
      "execution_count": 36,
      "outputs": [
        {
          "output_type": "stream",
          "name": "stdout",
          "text": [
            "18712.974799999996\n"
          ]
        }
      ]
    }
  ]
}